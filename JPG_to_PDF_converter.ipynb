{
 "cells": [
  {
   "cell_type": "code",
   "execution_count": 1,
   "id": "1ca3aebf",
   "metadata": {},
   "outputs": [
    {
     "name": "stdout",
     "output_type": "stream",
     "text": [
      "Requirement already satisfied: Pillow in /Library/Frameworks/Python.framework/Versions/3.11/lib/python3.11/site-packages (9.5.0)\n",
      "\n",
      "\u001b[1m[\u001b[0m\u001b[34;49mnotice\u001b[0m\u001b[1;39;49m]\u001b[0m\u001b[39;49m A new release of pip available: \u001b[0m\u001b[31;49m22.3.1\u001b[0m\u001b[39;49m -> \u001b[0m\u001b[32;49m23.2.1\u001b[0m\n",
      "\u001b[1m[\u001b[0m\u001b[34;49mnotice\u001b[0m\u001b[1;39;49m]\u001b[0m\u001b[39;49m To update, run: \u001b[0m\u001b[32;49mpip3 install --upgrade pip\u001b[0m\n",
      "Note: you may need to restart the kernel to use updated packages.\n"
     ]
    }
   ],
   "source": [
    "pip install Pillow"
   ]
  },
  {
   "cell_type": "code",
   "execution_count": 2,
   "id": "cad5aed0",
   "metadata": {},
   "outputs": [
    {
     "name": "stdout",
     "output_type": "stream",
     "text": [
      "Collecting reportlab\n",
      "  Using cached reportlab-4.0.4-py3-none-any.whl (1.9 MB)\n",
      "Requirement already satisfied: pillow>=9.0.0 in /Library/Frameworks/Python.framework/Versions/3.11/lib/python3.11/site-packages (from reportlab) (9.5.0)\n",
      "Installing collected packages: reportlab\n",
      "Successfully installed reportlab-4.0.4\n",
      "\n",
      "\u001b[1m[\u001b[0m\u001b[34;49mnotice\u001b[0m\u001b[1;39;49m]\u001b[0m\u001b[39;49m A new release of pip available: \u001b[0m\u001b[31;49m22.3.1\u001b[0m\u001b[39;49m -> \u001b[0m\u001b[32;49m23.2.1\u001b[0m\n",
      "\u001b[1m[\u001b[0m\u001b[34;49mnotice\u001b[0m\u001b[1;39;49m]\u001b[0m\u001b[39;49m To update, run: \u001b[0m\u001b[32;49mpip3 install --upgrade pip\u001b[0m\n",
      "Note: you may need to restart the kernel to use updated packages.\n"
     ]
    }
   ],
   "source": [
    "pip install reportlab"
   ]
  },
  {
   "cell_type": "code",
   "execution_count": 3,
   "id": "1feab3ed",
   "metadata": {},
   "outputs": [],
   "source": [
    "from PIL import Image\n",
    "from reportlab.lib.pagesizes import letter\n",
    "from reportlab.pdfgen import canvas"
   ]
  },
  {
   "cell_type": "code",
   "execution_count": 6,
   "id": "2cbc5873",
   "metadata": {},
   "outputs": [
    {
     "name": "stdout",
     "output_type": "stream",
     "text": [
      "Conversion from input.jpg to output.pdf successful.\n"
     ]
    }
   ],
   "source": [
    "def convert_jpeg_to_pdf(input_file, output_file):\n",
    "    try:\n",
    "        image = Image.open(input_file)\n",
    "\n",
    "        # If the image is not in RGB mode, convert it to RGB\n",
    "        if image.mode != 'RGB':\n",
    "            image = image.convert('RGB')\n",
    "\n",
    "        pdf_width, pdf_height = letter\n",
    "        pdf = canvas.Canvas(output_file, pagesize=(pdf_width, pdf_height))\n",
    "\n",
    "        # Scale the image to fit the PDF page\n",
    "        image_width, image_height = image.size\n",
    "        scale = min(pdf_width / image_width, pdf_height / image_height)\n",
    "        image_width *= scale\n",
    "        image_height *= scale\n",
    "\n",
    "        # Center the image on the PDF page\n",
    "        x_offset = (pdf_width - image_width) / 2\n",
    "        y_offset = (pdf_height - image_height) / 2\n",
    "\n",
    "\n",
    "        pdf.drawImage(input_file, x_offset, y_offset, width=image_width, height=image_height)\n",
    "        pdf.save()\n",
    "\n",
    "        print(f\"Conversion from {input_file} to {output_file} successful.\")\n",
    "    except FileNotFoundError:\n",
    "        print(f\"Input file not found: {input_file}\")\n",
    "    except Exception as e:\n",
    "        print(f\"An error occurred: {e}\")\n",
    "\n",
    "        \n",
    "if __name__ == \"__main__\":\n",
    "    input_file_path = \"input.jpg\"\n",
    "    output_file_path = \"output.pdf\"\n",
    "    convert_jpeg_to_pdf(input_file_path, output_file_path)\n"
   ]
  },
  {
   "cell_type": "code",
   "execution_count": null,
   "id": "bf6b3286",
   "metadata": {},
   "outputs": [],
   "source": []
  }
 ],
 "metadata": {
  "kernelspec": {
   "display_name": "Python 3 (ipykernel)",
   "language": "python",
   "name": "python3"
  },
  "language_info": {
   "codemirror_mode": {
    "name": "ipython",
    "version": 3
   },
   "file_extension": ".py",
   "mimetype": "text/x-python",
   "name": "python",
   "nbconvert_exporter": "python",
   "pygments_lexer": "ipython3",
   "version": "3.11.1"
  }
 },
 "nbformat": 4,
 "nbformat_minor": 5
}
